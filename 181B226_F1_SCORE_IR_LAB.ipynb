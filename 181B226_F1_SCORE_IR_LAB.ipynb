{
 "cells": [
  {
   "cell_type": "markdown",
   "metadata": {},
   "source": [
    "# SUYASH PRATAP SINGH (181B226)"
   ]
  },
  {
   "cell_type": "markdown",
   "metadata": {},
   "source": [
    "# TASKS:-\n",
    "\n",
    "1. Download the dataset containing actual and predicted scores for Logistic regression and random forest.\n",
    "2. Calculate the TP, TN, FP, FN.\n",
    "3. Compute Precision and recall for both the algorithms.\n",
    "4. Create a function to compute the F score for different values of beta.\n",
    "5. Compare the F score at beta 0.5, 1, and 2.  \n",
    "6. Conclude your results by estimating the best model."
   ]
  },
  {
   "cell_type": "code",
   "execution_count": 1,
   "metadata": {},
   "outputs": [],
   "source": [
    "import numpy as np\n",
    "import pandas as pd"
   ]
  },
  {
   "cell_type": "code",
   "execution_count": 2,
   "metadata": {},
   "outputs": [],
   "source": [
    "kp = pd.read_csv(r'C:\\Users\\Admin\\Downloads\\data.csv')"
   ]
  },
  {
   "cell_type": "code",
   "execution_count": 3,
   "metadata": {},
   "outputs": [
    {
     "data": {
      "text/html": [
       "<div>\n",
       "<style scoped>\n",
       "    .dataframe tbody tr th:only-of-type {\n",
       "        vertical-align: middle;\n",
       "    }\n",
       "\n",
       "    .dataframe tbody tr th {\n",
       "        vertical-align: top;\n",
       "    }\n",
       "\n",
       "    .dataframe thead th {\n",
       "        text-align: right;\n",
       "    }\n",
       "</style>\n",
       "<table border=\"1\" class=\"dataframe\">\n",
       "  <thead>\n",
       "    <tr style=\"text-align: right;\">\n",
       "      <th></th>\n",
       "      <th>y_act</th>\n",
       "      <th>y_pred_random_forest</th>\n",
       "      <th>y_pred_logistic</th>\n",
       "    </tr>\n",
       "  </thead>\n",
       "  <tbody>\n",
       "    <tr>\n",
       "      <th>10766</th>\n",
       "      <td>1</td>\n",
       "      <td>0.460723</td>\n",
       "      <td>0.437948</td>\n",
       "    </tr>\n",
       "    <tr>\n",
       "      <th>1666</th>\n",
       "      <td>0</td>\n",
       "      <td>0.436187</td>\n",
       "      <td>0.412400</td>\n",
       "    </tr>\n",
       "    <tr>\n",
       "      <th>2280</th>\n",
       "      <td>1</td>\n",
       "      <td>0.526304</td>\n",
       "      <td>0.354834</td>\n",
       "    </tr>\n",
       "    <tr>\n",
       "      <th>10029</th>\n",
       "      <td>0</td>\n",
       "      <td>0.587347</td>\n",
       "      <td>0.522657</td>\n",
       "    </tr>\n",
       "    <tr>\n",
       "      <th>592</th>\n",
       "      <td>1</td>\n",
       "      <td>0.579320</td>\n",
       "      <td>0.493384</td>\n",
       "    </tr>\n",
       "  </tbody>\n",
       "</table>\n",
       "</div>"
      ],
      "text/plain": [
       "       y_act  y_pred_random_forest  y_pred_logistic\n",
       "10766      1              0.460723         0.437948\n",
       "1666       0              0.436187         0.412400\n",
       "2280       1              0.526304         0.354834\n",
       "10029      0              0.587347         0.522657\n",
       "592        1              0.579320         0.493384"
      ]
     },
     "execution_count": 3,
     "metadata": {},
     "output_type": "execute_result"
    }
   ],
   "source": [
    "#print random 5 rows \n",
    "kp.sample(5)"
   ]
  },
  {
   "cell_type": "code",
   "execution_count": 4,
   "metadata": {},
   "outputs": [
    {
     "data": {
      "text/html": [
       "<div>\n",
       "<style scoped>\n",
       "    .dataframe tbody tr th:only-of-type {\n",
       "        vertical-align: middle;\n",
       "    }\n",
       "\n",
       "    .dataframe tbody tr th {\n",
       "        vertical-align: top;\n",
       "    }\n",
       "\n",
       "    .dataframe thead th {\n",
       "        text-align: right;\n",
       "    }\n",
       "</style>\n",
       "<table border=\"1\" class=\"dataframe\">\n",
       "  <thead>\n",
       "    <tr style=\"text-align: right;\">\n",
       "      <th></th>\n",
       "      <th>y_act</th>\n",
       "      <th>y_pred_random_forest</th>\n",
       "      <th>y_pred_logistic</th>\n",
       "    </tr>\n",
       "  </thead>\n",
       "  <tbody>\n",
       "    <tr>\n",
       "      <th>0</th>\n",
       "      <td>1</td>\n",
       "      <td>0.639816</td>\n",
       "      <td>0.531904</td>\n",
       "    </tr>\n",
       "    <tr>\n",
       "      <th>1</th>\n",
       "      <td>0</td>\n",
       "      <td>0.490993</td>\n",
       "      <td>0.414496</td>\n",
       "    </tr>\n",
       "    <tr>\n",
       "      <th>2</th>\n",
       "      <td>1</td>\n",
       "      <td>0.623815</td>\n",
       "      <td>0.569883</td>\n",
       "    </tr>\n",
       "    <tr>\n",
       "      <th>3</th>\n",
       "      <td>1</td>\n",
       "      <td>0.506616</td>\n",
       "      <td>0.443674</td>\n",
       "    </tr>\n",
       "    <tr>\n",
       "      <th>4</th>\n",
       "      <td>0</td>\n",
       "      <td>0.418302</td>\n",
       "      <td>0.369532</td>\n",
       "    </tr>\n",
       "  </tbody>\n",
       "</table>\n",
       "</div>"
      ],
      "text/plain": [
       "   y_act  y_pred_random_forest  y_pred_logistic\n",
       "0      1              0.639816         0.531904\n",
       "1      0              0.490993         0.414496\n",
       "2      1              0.623815         0.569883\n",
       "3      1              0.506616         0.443674\n",
       "4      0              0.418302         0.369532"
      ]
     },
     "execution_count": 4,
     "metadata": {},
     "output_type": "execute_result"
    }
   ],
   "source": [
    "kp.head()"
   ]
  },
  {
   "cell_type": "code",
   "execution_count": 5,
   "metadata": {},
   "outputs": [
    {
     "data": {
      "text/plain": [
       "(15758, 3)"
      ]
     },
     "execution_count": 5,
     "metadata": {},
     "output_type": "execute_result"
    }
   ],
   "source": [
    "kp.shape"
   ]
  },
  {
   "cell_type": "code",
   "execution_count": 7,
   "metadata": {},
   "outputs": [
    {
     "data": {
      "text/html": [
       "<div>\n",
       "<style scoped>\n",
       "    .dataframe tbody tr th:only-of-type {\n",
       "        vertical-align: middle;\n",
       "    }\n",
       "\n",
       "    .dataframe tbody tr th {\n",
       "        vertical-align: top;\n",
       "    }\n",
       "\n",
       "    .dataframe thead th {\n",
       "        text-align: right;\n",
       "    }\n",
       "</style>\n",
       "<table border=\"1\" class=\"dataframe\">\n",
       "  <thead>\n",
       "    <tr style=\"text-align: right;\">\n",
       "      <th></th>\n",
       "      <th>y_act</th>\n",
       "      <th>y_pred_random_forest</th>\n",
       "      <th>y_pred_logistic</th>\n",
       "    </tr>\n",
       "  </thead>\n",
       "  <tbody>\n",
       "    <tr>\n",
       "      <th>0</th>\n",
       "      <td>1</td>\n",
       "      <td>1.0</td>\n",
       "      <td>1.0</td>\n",
       "    </tr>\n",
       "    <tr>\n",
       "      <th>1</th>\n",
       "      <td>0</td>\n",
       "      <td>0.0</td>\n",
       "      <td>0.0</td>\n",
       "    </tr>\n",
       "    <tr>\n",
       "      <th>2</th>\n",
       "      <td>1</td>\n",
       "      <td>1.0</td>\n",
       "      <td>1.0</td>\n",
       "    </tr>\n",
       "    <tr>\n",
       "      <th>3</th>\n",
       "      <td>1</td>\n",
       "      <td>1.0</td>\n",
       "      <td>0.0</td>\n",
       "    </tr>\n",
       "    <tr>\n",
       "      <th>4</th>\n",
       "      <td>0</td>\n",
       "      <td>0.0</td>\n",
       "      <td>0.0</td>\n",
       "    </tr>\n",
       "    <tr>\n",
       "      <th>...</th>\n",
       "      <td>...</td>\n",
       "      <td>...</td>\n",
       "      <td>...</td>\n",
       "    </tr>\n",
       "    <tr>\n",
       "      <th>15753</th>\n",
       "      <td>1</td>\n",
       "      <td>1.0</td>\n",
       "      <td>1.0</td>\n",
       "    </tr>\n",
       "    <tr>\n",
       "      <th>15754</th>\n",
       "      <td>0</td>\n",
       "      <td>1.0</td>\n",
       "      <td>1.0</td>\n",
       "    </tr>\n",
       "    <tr>\n",
       "      <th>15755</th>\n",
       "      <td>1</td>\n",
       "      <td>1.0</td>\n",
       "      <td>1.0</td>\n",
       "    </tr>\n",
       "    <tr>\n",
       "      <th>15756</th>\n",
       "      <td>1</td>\n",
       "      <td>1.0</td>\n",
       "      <td>1.0</td>\n",
       "    </tr>\n",
       "    <tr>\n",
       "      <th>15757</th>\n",
       "      <td>1</td>\n",
       "      <td>1.0</td>\n",
       "      <td>1.0</td>\n",
       "    </tr>\n",
       "  </tbody>\n",
       "</table>\n",
       "<p>15758 rows × 3 columns</p>\n",
       "</div>"
      ],
      "text/plain": [
       "       y_act  y_pred_random_forest  y_pred_logistic\n",
       "0          1                   1.0              1.0\n",
       "1          0                   0.0              0.0\n",
       "2          1                   1.0              1.0\n",
       "3          1                   1.0              0.0\n",
       "4          0                   0.0              0.0\n",
       "...      ...                   ...              ...\n",
       "15753      1                   1.0              1.0\n",
       "15754      0                   1.0              1.0\n",
       "15755      1                   1.0              1.0\n",
       "15756      1                   1.0              1.0\n",
       "15757      1                   1.0              1.0\n",
       "\n",
       "[15758 rows x 3 columns]"
      ]
     },
     "execution_count": 7,
     "metadata": {},
     "output_type": "execute_result"
    }
   ],
   "source": [
    "kp = kp.round()\n",
    "kp"
   ]
  },
  {
   "cell_type": "code",
   "execution_count": 8,
   "metadata": {},
   "outputs": [],
   "source": [
    "def TP_FP_TN_FN(y_act, y_pred):\n",
    "    TP, TN, FP, FN = 0,0,0,0\n",
    "    \n",
    "    for i in range(len(y_act)): \n",
    "        if y_act[i]==y_pred[i]==1.0:\n",
    "            TP += 1\n",
    "        if y_pred[i]==1.0 and y_act[i]!=y_pred[i]:\n",
    "            FP += 1\n",
    "        if y_act[i]==y_pred[i]==0.0:\n",
    "            TN += 1\n",
    "        if y_pred[i]==0 and y_act[i]!=y_pred[i]:\n",
    "            FN += 1\n",
    "\n",
    "    return(TP, FP, TN, FN)"
   ]
  },
  {
   "cell_type": "code",
   "execution_count": 9,
   "metadata": {},
   "outputs": [],
   "source": [
    "TP_rf,FP_rf,TN_rf,FN_rf = TP_FP_TN_FN(kp.y_act, kp.y_pred_random_forest)\n",
    "TP_log,FP_log,TN_log,FN_log = TP_FP_TN_FN(kp.y_act, kp.y_pred_logistic)"
   ]
  },
  {
   "cell_type": "markdown",
   "metadata": {},
   "source": [
    "# Precision = TP/TP+FP"
   ]
  },
  {
   "cell_type": "code",
   "execution_count": 10,
   "metadata": {},
   "outputs": [],
   "source": [
    "precision_rf = TP_rf/(TP_rf+FP_rf)\n",
    "precision_log = TP_log/(TP_log+FP_log)"
   ]
  },
  {
   "cell_type": "code",
   "execution_count": 13,
   "metadata": {},
   "outputs": [
    {
     "name": "stdout",
     "output_type": "stream",
     "text": [
      "precision for Random Forest model: 0.681382476036182\n",
      "precision for Logistic model: 0.6355265112134264\n"
     ]
    }
   ],
   "source": [
    "print(\"precision for Random Forest model: {}\".format(precision_rf))\n",
    "print(\"precision for Logistic model: {}\".format(precision_log))"
   ]
  },
  {
   "cell_type": "markdown",
   "metadata": {},
   "source": [
    "# Recall = TP/TP+FN"
   ]
  },
  {
   "cell_type": "code",
   "execution_count": 14,
   "metadata": {},
   "outputs": [],
   "source": [
    "recall_rf = TP_rf/(TP_rf+FN_rf)\n",
    "recall_log = TP_log/(TP_log+FN_log)"
   ]
  },
  {
   "cell_type": "code",
   "execution_count": 15,
   "metadata": {},
   "outputs": [
    {
     "name": "stdout",
     "output_type": "stream",
     "text": [
      "recall for Random Forest model: 0.6405635232897576\n",
      "recall for Logistic model: 0.5430892245208783\n"
     ]
    }
   ],
   "source": [
    "print(\"recall for Random Forest model: {}\".format(recall_rf))\n",
    "print(\"recall for Logistic model: {}\".format(recall_log))"
   ]
  },
  {
   "cell_type": "markdown",
   "metadata": {},
   "source": [
    "# F1 score = (1+B^2).(precision.recall)/(B^2.precision+recall)"
   ]
  },
  {
   "cell_type": "code",
   "execution_count": 16,
   "metadata": {},
   "outputs": [],
   "source": [
    "F1_rf = TP_rf/(TP_rf+((FP_rf+FN_rf)/2))\n",
    "F1_log = TP_log/(TP_log+((FP_log+FN_log)/2))"
   ]
  },
  {
   "cell_type": "code",
   "execution_count": 17,
   "metadata": {},
   "outputs": [
    {
     "name": "stdout",
     "output_type": "stream",
     "text": [
      "F1 score for Random Forest model: 0.660342797330891\n",
      "F1 score for Logistic model: 0.5856830002737476\n"
     ]
    }
   ],
   "source": [
    "print(\"F1 score for Random Forest model: {}\".format(F1_rf))\n",
    "print(\"F1 score for Logistic model: {}\".format(F1_log))"
   ]
  },
  {
   "cell_type": "markdown",
   "metadata": {},
   "source": [
    "# F beta Score"
   ]
  },
  {
   "cell_type": "code",
   "execution_count": 18,
   "metadata": {},
   "outputs": [],
   "source": [
    "tej = [0.5,1,2] #beta values"
   ]
  },
  {
   "cell_type": "code",
   "execution_count": 19,
   "metadata": {},
   "outputs": [],
   "source": [
    "F_beta_rf = []\n",
    "F_beta_rf.append((1+tej[0])/(tej[0]/precision_rf+1/recall_rf))\n",
    "F_beta_rf.append((1+tej[1])/(tej[1]/precision_rf+1/recall_rf))\n",
    "F_beta_rf.append((1+tej[2])/(tej[2]/precision_rf+1/recall_rf))"
   ]
  },
  {
   "cell_type": "markdown",
   "metadata": {},
   "source": [
    "# F Score Random Forest, for beta= 0.5 , 1 and 2"
   ]
  },
  {
   "cell_type": "code",
   "execution_count": 21,
   "metadata": {},
   "outputs": [
    {
     "name": "stdout",
     "output_type": "stream",
     "text": [
      "F-beta at beta = 0.5 for Random Forest model is = 0.6536153680120872\n",
      "F-beta at beta = 1 for Random Forest model is = 0.6603427973308911\n",
      "F-beta at beta = 2 for Random Forest model is = 0.6672101529105892\n"
     ]
    }
   ],
   "source": [
    "for i in range(3):\n",
    "    print(\"F-beta at beta = {} for Random Forest model is = {}\".format(tej[i],F_beta_rf[i]))"
   ]
  },
  {
   "cell_type": "markdown",
   "metadata": {},
   "source": [
    "# F Score Logistic, for beta= 0.5 , 1 and 2"
   ]
  },
  {
   "cell_type": "code",
   "execution_count": 22,
   "metadata": {},
   "outputs": [],
   "source": [
    "F_beta_log = []\n",
    "F_beta_log.append((1+tej[0])/(tej[0]/precision_log+1/recall_log))\n",
    "F_beta_log.append((1+tej[1])/(tej[1]/precision_log+1/recall_log))\n",
    "F_beta_log.append((1+tej[2])/(tej[2]/precision_log+1/recall_log))"
   ]
  },
  {
   "cell_type": "code",
   "execution_count": 24,
   "metadata": {},
   "outputs": [
    {
     "name": "stdout",
     "output_type": "stream",
     "text": [
      "F-beta at beta = 0.5 for Logistic model is = 0.5707616379885286\n",
      "F-beta at beta = 1 for Logistic model is = 0.5856830002737476\n",
      "F-beta at beta = 2 for Logistic model is = 0.6014054813773718\n"
     ]
    }
   ],
   "source": [
    "for i in range(3):\n",
    "    print(\"F-beta at beta = {} for Logistic model is = {}\".format(tej[i],F_beta_log[i]))"
   ]
  },
  {
   "cell_type": "markdown",
   "metadata": {},
   "source": [
    "# Conclusion:-  Results For Random Forest models are better"
   ]
  },
  {
   "cell_type": "markdown",
   "metadata": {},
   "source": [
    "# THANK YOU"
   ]
  }
 ],
 "metadata": {
  "kernelspec": {
   "display_name": "Python 3",
   "language": "python",
   "name": "python3"
  },
  "language_info": {
   "codemirror_mode": {
    "name": "ipython",
    "version": 3
   },
   "file_extension": ".py",
   "mimetype": "text/x-python",
   "name": "python",
   "nbconvert_exporter": "python",
   "pygments_lexer": "ipython3",
   "version": "3.8.1"
  }
 },
 "nbformat": 4,
 "nbformat_minor": 4
}
