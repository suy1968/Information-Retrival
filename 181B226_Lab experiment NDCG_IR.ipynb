{
 "cells": [
  {
   "cell_type": "markdown",
   "metadata": {},
   "source": [
    "# SUYASH PRATAP SINGH (181B226)"
   ]
  },
  {
   "cell_type": "markdown",
   "metadata": {},
   "source": [
    "# TASKS:-\n",
    "Consider the case of 10 documents judged on a scale of 0 to 5 by 4 information retrieval systems. The retrieval order of the documents is specified below:\n",
    "\n",
    "IR.1 : 5,4,2,0,1,2,4,5,2,0\n",
    "\n",
    "IR.2 : 4,5,5,4,2,0,1,2,0,2\n",
    "\n",
    "IR.3:  5,5,4,4,2,1,2,2,0,0\n",
    "\n",
    "IR.4:  0,0,2,1,2,2,4,5,2,4\n",
    "\n",
    "\n",
    "Write a python script to identify the best Information retrieval system on the basis of the NDCG score.\n",
    "\n",
    "Create a generalized function to rank the docements on different level of grading of relevance."
   ]
  },
  {
   "cell_type": "code",
   "execution_count": 1,
   "metadata": {},
   "outputs": [],
   "source": [
    "import math"
   ]
  },
  {
   "cell_type": "code",
   "execution_count": 2,
   "metadata": {},
   "outputs": [],
   "source": [
    "IR =[[5,4,2,0,1,2,4,5,2,0],\n",
    "     [4,5,5,4,2,0,1,2,0,2],\n",
    "     [5,5,4,4,2,1,2,2,0,0],\n",
    "     [0,0,2,1,2,2,4,5,2,4]]"
   ]
  },
  {
   "cell_type": "code",
   "execution_count": 3,
   "metadata": {},
   "outputs": [],
   "source": [
    "def score(lis):\n",
    "    rating=lis.copy()\n",
    "    cg=sum(rating)\n",
    "    dcg=0\n",
    "    idcg=0\n",
    "    l=len(rating)\n",
    "    for i in range(l):\n",
    "        dcg+=rating[i]/math.log(i+2,2)\n",
    "    rating.sort(reverse=True)\n",
    "    for i in range(l):\n",
    "        idcg+=rating[i]/math.log(i+2,2)\n",
    "    ndcg=dcg/idcg\n",
    "    return ndcg"
   ]
  },
  {
   "cell_type": "code",
   "execution_count": 4,
   "metadata": {},
   "outputs": [],
   "source": [
    "def rank(IR):\n",
    "    scoring=[]\n",
    "    for i in range(len(IR)):\n",
    "        sys_score=score(IR[i])\n",
    "        print('NDCG Score of system IR', i+1, '=', sys_score)\n",
    "        scoring.append(['IR'+str(i+1),sys_score])\n",
    "    scoring.sort(reverse=True,key=lambda x:x[1])\n",
    "    \n",
    "    print('Ranks:')\n",
    "    for i in range(len(IR)):\n",
    "        print('Rank',i+1,': ',scoring[i][0])"
   ]
  },
  {
   "cell_type": "code",
   "execution_count": 5,
   "metadata": {},
   "outputs": [
    {
     "name": "stdout",
     "output_type": "stream",
     "text": [
      "NDCG Score of system IR 1 = 0.9156604061850688\n",
      "NDCG Score of system IR 2 = 0.9545398671948768\n",
      "NDCG Score of system IR 3 = 0.9971599450862819\n",
      "NDCG Score of system IR 4 = 0.5901799223114848\n",
      "Ranks:\n",
      "Rank 1 :  IR3\n",
      "Rank 2 :  IR2\n",
      "Rank 3 :  IR1\n",
      "Rank 4 :  IR4\n"
     ]
    }
   ],
   "source": [
    "rank(IR)"
   ]
  },
  {
   "cell_type": "markdown",
   "metadata": {},
   "source": [
    "# THANK YOU"
   ]
  }
 ],
 "metadata": {
  "kernelspec": {
   "display_name": "Python 3",
   "language": "python",
   "name": "python3"
  },
  "language_info": {
   "codemirror_mode": {
    "name": "ipython",
    "version": 3
   },
   "file_extension": ".py",
   "mimetype": "text/x-python",
   "name": "python",
   "nbconvert_exporter": "python",
   "pygments_lexer": "ipython3",
   "version": "3.8.1"
  }
 },
 "nbformat": 4,
 "nbformat_minor": 5
}
