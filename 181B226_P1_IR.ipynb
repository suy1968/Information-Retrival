{
 "cells": [
  {
   "cell_type": "markdown",
   "metadata": {},
   "source": [
    "# SUYASH PRATAP SINGH(181B226)\n"
   ]
  },
  {
   "cell_type": "markdown",
   "metadata": {},
   "source": [
    "# TASKS:-\n",
    "1. Given these documents.\n",
    "2. Print the vocabulary removing the stopword.\n",
    "3. Print the term incidence matrix without fractional values.\n",
    "4. Calculate the similarity of the query : \" Human-based review of computer systems\" by using Cosine method.\n",
    "5. Calculate the SVD of the term incidence matrix.\n",
    "6. Create a function to check whether the result of SVD when multiplied giving the original matrix.\n",
    "\n",
    "\n",
    "c1: Human machine interface for, Lab ABC computer applications\n",
    "c2: A survey of user opinion. of computer system response time\n",
    "c3: The EPS user interface, management system\n",
    "c4: System and human system, engineering testing of EPS\n",
    "c5: Relation of user-perceived response time to error measurement\n",
    "m1: The generation of random, binary, unordered trees\n",
    "m2: The intersection graph, of paths in trees\n",
    "m3: Graph minors IV: Widths of trees and well-quasi-ordering\n",
    "m4: Graph minors: A survey\n"
   ]
  },
  {
   "cell_type": "code",
   "execution_count": 3,
   "metadata": {},
   "outputs": [
    {
     "data": {
      "text/plain": [
       "['Human machine interface for Lab ABC computer applications',\n",
       " 'A survey of user opinion of computer system response time',\n",
       " 'The EPS user interface management system',\n",
       " 'System and human system engineering testing of EPS',\n",
       " 'Relation of user-perceived response time to error measurement',\n",
       " 'The generation of random, binary, unordered trees',\n",
       " 'The intersection graph of paths in trees',\n",
       " 'Graph minors IV: Widths of trees and well-quasi-ordering',\n",
       " 'Graph minors: A survey']"
      ]
     },
     "execution_count": 3,
     "metadata": {},
     "output_type": "execute_result"
    }
   ],
   "source": [
    "docs=['Human machine interface for Lab ABC computer applications',\n",
    "      'A survey of user opinion of computer system response time',\n",
    "      'The EPS user interface management system',\n",
    "      'System and human system engineering testing of EPS',\n",
    "      'Relation of user-perceived response time to error measurement',\n",
    "      'The generation of random, binary, unordered trees',\n",
    "      'The intersection graph of paths in trees',\n",
    "      'Graph minors IV: Widths of trees and well-quasi-ordering',\n",
    "      'Graph minors: A survey']\n",
    "docs"
   ]
  },
  {
   "cell_type": "markdown",
   "metadata": {},
   "source": [
    "# Removing stop words"
   ]
  },
  {
   "cell_type": "code",
   "execution_count": 4,
   "metadata": {
    "scrolled": true
   },
   "outputs": [
    {
     "data": {
      "text/plain": [
       "[['Human', 'machine', 'interface', 'Lab', 'ABC', 'computer', 'applications'],\n",
       " ['A', 'survey', 'user', 'opinion', 'computer', 'system', 'response', 'time'],\n",
       " ['The', 'EPS', 'user', 'interface', 'management', 'system'],\n",
       " ['System', 'human', 'system', 'engineering', 'testing', 'EPS'],\n",
       " ['Relation', 'user-perceived', 'response', 'time', 'error', 'measurement'],\n",
       " ['The', 'generation', 'random,', 'binary,', 'unordered', 'trees'],\n",
       " ['The', 'intersection', 'graph', 'paths', 'trees'],\n",
       " ['Graph', 'minors', 'IV:', 'Widths', 'trees', 'well-quasi-ordering'],\n",
       " ['Graph', 'minors:', 'A', 'survey']]"
      ]
     },
     "execution_count": 4,
     "metadata": {},
     "output_type": "execute_result"
    }
   ],
   "source": [
    "#Removing stop words\n",
    "from nltk.corpus import stopwords\n",
    "stop_words = set(stopwords.words('english')) \n",
    "docs2=[]\n",
    "for doc in docs:\n",
    "    docx=[]\n",
    "    for word in doc.split(): \n",
    "        if word not in stop_words: \n",
    "            docx.append(word) \n",
    "    docs2.append(docx)\n",
    "docs2"
   ]
  },
  {
   "cell_type": "markdown",
   "metadata": {},
   "source": [
    "# Create a term incidence matrix"
   ]
  },
  {
   "cell_type": "code",
   "execution_count": 20,
   "metadata": {},
   "outputs": [],
   "source": [
    "import sklearn\n",
    "import sklearn.feature_extraction\n",
    "import numpy as np\n",
    "from scipy.linalg import svd\n",
    "from numpy import zeros\n",
    "from numpy import diag\n",
    "from numpy import dot"
   ]
  },
  {
   "cell_type": "code",
   "execution_count": null,
   "metadata": {},
   "outputs": [],
   "source": [
    "suy = sklearn.feature_extraction.text.CountVectorizer(min_df=1)\n",
    "teju=[]\n",
    "vin=int(input(\"How many documents you want to enter\\n\"))\n",
    "for i in range(vin):\n",
    "  s=input()\n",
    "  teju.append(s)"
   ]
  },
  {
   "cell_type": "code",
   "execution_count": 22,
   "metadata": {},
   "outputs": [
    {
     "name": "stdout",
     "output_type": "stream",
     "text": [
      "[[1 0 1 0 1 0 0 0 1 0 0 1 0 1 0 0 1 1 0 0 0 0 0 0 0 0 0 0 0 0 0 0 0 0 0 0\n",
      "  0 0 0 0 0]\n",
      " [0 0 0 0 1 0 0 0 0 0 0 0 0 0 0 0 0 0 0 0 0 2 1 0 0 0 0 0 0 1 1 1 0 0 1 0\n",
      "  0 0 1 0 0]\n",
      " [0 0 0 0 0 0 1 0 0 0 0 0 0 1 0 0 0 0 1 0 0 0 0 0 0 0 0 0 0 0 0 1 0 1 0 0\n",
      "  0 0 1 0 0]\n",
      " [0 1 0 0 0 1 1 0 0 0 0 1 0 0 0 0 0 0 0 0 0 1 0 0 0 0 0 0 0 0 0 2 1 0 0 0\n",
      "  0 0 0 0 0]\n",
      " [0 0 0 0 0 0 0 1 0 0 0 0 0 0 0 0 0 0 0 1 0 1 0 0 0 1 0 0 1 1 0 0 0 0 1 1\n",
      "  0 0 1 0 0]\n",
      " [0 0 0 1 0 0 0 0 0 1 0 0 0 0 0 0 0 0 0 0 0 1 0 0 0 0 0 1 0 0 0 0 0 1 0 0\n",
      "  1 1 0 0 0]\n",
      " [0 0 0 0 0 0 0 0 0 0 1 0 1 0 1 0 0 0 0 0 0 1 0 0 1 0 0 0 0 0 0 0 0 1 0 0\n",
      "  1 0 0 0 0]\n",
      " [0 1 0 0 0 0 0 0 0 0 1 0 0 0 0 1 0 0 0 0 1 1 0 1 0 0 1 0 0 0 0 0 0 0 0 0\n",
      "  1 0 0 1 1]\n",
      " [0 0 0 0 0 0 0 0 0 0 1 0 0 0 0 0 0 0 0 0 1 0 0 0 0 0 0 0 0 0 1 0 0 0 0 0\n",
      "  0 0 0 0 0]]\n",
      "suy.vocabulary_: {'human': 11, 'machine': 17, 'interface': 13, 'for': 8, 'lab': 16, 'abc': 0, 'computer': 4, 'applications': 2, 'survey': 30, 'of': 21, 'user': 38, 'opinion': 22, 'system': 31, 'response': 29, 'time': 34, 'the': 33, 'eps': 6, 'management': 18, 'and': 1, 'engineering': 5, 'testing': 32, 'relation': 28, 'perceived': 25, 'to': 35, 'error': 7, 'measurement': 19, 'generation': 9, 'random': 27, 'binary': 3, 'unordered': 37, 'trees': 36, 'intersection': 14, 'graph': 10, 'paths': 24, 'in': 12, 'minors': 20, 'iv': 15, 'widths': 40, 'well': 39, 'quasi': 26, 'ordering': 23}\n"
     ]
    }
   ],
   "source": [
    "Z = suy.fit_transform(teju).toarray()\n",
    "print('{0}'.format(Z))\n",
    "print('suy.vocabulary_: {0}'.format(suy.vocabulary_))"
   ]
  },
  {
   "cell_type": "code",
   "execution_count": 23,
   "metadata": {},
   "outputs": [
    {
     "name": "stdout",
     "output_type": "stream",
     "text": [
      "[[1 0 1 0 1 0 0 0 1 0 0 1 0 1 0 0 1 1 0 0 0 0 0 0 0 0 0 0 0 0 0 0 0 0 0 0\n",
      "  0 0 0 0 0]\n",
      " [0 0 0 0 1 0 0 0 0 0 0 0 0 0 0 0 0 0 0 0 0 2 1 0 0 0 0 0 0 1 1 1 0 0 1 0\n",
      "  0 0 1 0 0]\n",
      " [0 0 0 0 0 0 1 0 0 0 0 0 0 1 0 0 0 0 1 0 0 0 0 0 0 0 0 0 0 0 0 1 0 1 0 0\n",
      "  0 0 1 0 0]\n",
      " [0 1 0 0 0 1 1 0 0 0 0 1 0 0 0 0 0 0 0 0 0 1 0 0 0 0 0 0 0 0 0 2 1 0 0 0\n",
      "  0 0 0 0 0]\n",
      " [0 0 0 0 0 0 0 1 0 0 0 0 0 0 0 0 0 0 0 1 0 1 0 0 0 1 0 0 1 1 0 0 0 0 1 1\n",
      "  0 0 1 0 0]\n",
      " [0 0 0 1 0 0 0 0 0 1 0 0 0 0 0 0 0 0 0 0 0 1 0 0 0 0 0 1 0 0 0 0 0 1 0 0\n",
      "  1 1 0 0 0]\n",
      " [0 0 0 0 0 0 0 0 0 0 1 0 1 0 1 0 0 0 0 0 0 1 0 0 1 0 0 0 0 0 0 0 0 1 0 0\n",
      "  1 0 0 0 0]\n",
      " [0 1 0 0 0 0 0 0 0 0 1 0 0 0 0 1 0 0 0 0 1 1 0 1 0 0 1 0 0 0 0 0 0 0 0 0\n",
      "  1 0 0 1 1]\n",
      " [0 0 0 0 0 0 0 0 0 0 1 0 0 0 0 0 0 0 0 0 1 0 0 0 0 0 0 0 0 0 1 0 0 0 0 0\n",
      "  0 0 0 0 0]]\n"
     ]
    }
   ],
   "source": [
    "for row in Z:\n",
    "    for j in range(len(row)):\n",
    "        if(row[j]>1):\n",
    "            row[i]>1\n",
    "print(Z)"
   ]
  },
  {
   "cell_type": "markdown",
   "metadata": {},
   "source": [
    "# Cosine_similarity"
   ]
  },
  {
   "cell_type": "code",
   "execution_count": 5,
   "metadata": {},
   "outputs": [],
   "source": [
    "from sklearn.feature_extraction.text import TfidfVectorizer\n",
    "from sklearn.metrics.pairwise import linear_kernel"
   ]
  },
  {
   "cell_type": "code",
   "execution_count": 6,
   "metadata": {},
   "outputs": [],
   "source": [
    "terms= 'Human-based review of computer systems'\n",
    "docs=['Human machine interface for Lab ABC computer applications',\n",
    "      'A survey of user opinion of computer system response time',\n",
    "      'The EPS user interface management system',\n",
    "      'System and human system engineering testing of EPS',\n",
    "      'Relation of user-perceived response time to error measurement',\n",
    "      'The generation of random, binary, unordered trees',\n",
    "      'The intersection graph of paths in trees',\n",
    "      'Graph minors IV: Widths of trees and well-quasi-ordering',\n",
    "      'Graph minors: A survey']"
   ]
  },
  {
   "cell_type": "code",
   "execution_count": 16,
   "metadata": {},
   "outputs": [
    {
     "data": {
      "text/plain": [
       "array([1.        , 0.20311632, 0.20527035, 0.        , 0.14940581,\n",
       "       0.04238244, 0.04931835, 0.05151946, 0.04084988, 0.        ])"
      ]
     },
     "execution_count": 16,
     "metadata": {},
     "output_type": "execute_result"
    }
   ],
   "source": [
    "vect = TfidfVectorizer()\n",
    "doc_vectors = vect.fit_transform([terms]+docs)\n",
    "\n",
    "cosine_sim = linear_kernel(doc_vectors[0:1], doc_vectors).flatten()\n",
    "cosine_sim"
   ]
  },
  {
   "cell_type": "code",
   "execution_count": 17,
   "metadata": {},
   "outputs": [
    {
     "data": {
      "text/plain": [
       "[0.20311632499987622,\n",
       " 0.20527034598805088,\n",
       " 0.0,\n",
       " 0.14940580624727887,\n",
       " 0.0423824414485325,\n",
       " 0.049318354592657744,\n",
       " 0.05151945523184419,\n",
       " 0.040849881732985455,\n",
       " 0.0]"
      ]
     },
     "execution_count": 17,
     "metadata": {},
     "output_type": "execute_result"
    }
   ],
   "source": [
    "doc_score = [item.item() for item in cosine_sim[1:]]\n",
    "doc_score"
   ]
  },
  {
   "cell_type": "markdown",
   "metadata": {},
   "source": [
    "# CONCLUSION"
   ]
  },
  {
   "cell_type": "markdown",
   "metadata": {},
   "source": [
    "We got:\n",
    "D2>D1>D4>D7>D6>D5>D8>D3=D9"
   ]
  },
  {
   "cell_type": "markdown",
   "metadata": {},
   "source": [
    "# SVD CALCUALTION"
   ]
  },
  {
   "cell_type": "code",
   "execution_count": 24,
   "metadata": {},
   "outputs": [],
   "source": [
    "U,S,V = np.linalg.svd(Z)\n",
    "S = np.diag(S)\n",
    "V = V[:9,:]"
   ]
  },
  {
   "cell_type": "code",
   "execution_count": 25,
   "metadata": {},
   "outputs": [
    {
     "name": "stdout",
     "output_type": "stream",
     "text": [
      "(9, 9) (9, 9) (9, 41)\n"
     ]
    }
   ],
   "source": [
    "print(U.shape,S.shape,V.shape)"
   ]
  },
  {
   "cell_type": "code",
   "execution_count": 26,
   "metadata": {},
   "outputs": [
    {
     "data": {
      "text/plain": [
       "array([[4.60598869, 0.        , 0.        , 0.        , 0.        ,\n",
       "        0.        , 0.        , 0.        , 0.        ],\n",
       "       [0.        , 3.34993222, 0.        , 0.        , 0.        ,\n",
       "        0.        , 0.        , 0.        , 0.        ],\n",
       "       [0.        , 0.        , 3.09443767, 0.        , 0.        ,\n",
       "        0.        , 0.        , 0.        , 0.        ],\n",
       "       [0.        , 0.        , 0.        , 2.72832464, 0.        ,\n",
       "        0.        , 0.        , 0.        , 0.        ],\n",
       "       [0.        , 0.        , 0.        , 0.        , 2.6542251 ,\n",
       "        0.        , 0.        , 0.        , 0.        ],\n",
       "       [0.        , 0.        , 0.        , 0.        , 0.        ,\n",
       "        2.14167375, 0.        , 0.        , 0.        ],\n",
       "       [0.        , 0.        , 0.        , 0.        , 0.        ,\n",
       "        0.        , 2.05835898, 0.        , 0.        ],\n",
       "       [0.        , 0.        , 0.        , 0.        , 0.        ,\n",
       "        0.        , 0.        , 1.89716432, 0.        ],\n",
       "       [0.        , 0.        , 0.        , 0.        , 0.        ,\n",
       "        0.        , 0.        , 0.        , 1.44075363]])"
      ]
     },
     "execution_count": 26,
     "metadata": {},
     "output_type": "execute_result"
    }
   ],
   "source": [
    "S"
   ]
  },
  {
   "cell_type": "code",
   "execution_count": 27,
   "metadata": {},
   "outputs": [
    {
     "data": {
      "text/plain": [
       "array([[-0.09333534,  0.23129924,  0.37970627, -0.87006897,  0.13300341,\n",
       "        -0.02943345, -0.10065601, -0.08588579, -0.02297975],\n",
       "       [-0.58434714,  0.28952872, -0.25501977, -0.02505255,  0.10029583,\n",
       "         0.61123465,  0.18851088,  0.2083633 ,  0.21547659],\n",
       "       [-0.22674715,  0.21247752,  0.27202544,  0.06316425, -0.31010962,\n",
       "        -0.49774712,  0.4498949 ,  0.52097844,  0.0877915 ],\n",
       "       [-0.42234451,  0.24325052,  0.58123846,  0.44585954,  0.08278368,\n",
       "        -0.0130243 , -0.2596213 , -0.35137835, -0.16713077],\n",
       "       [-0.36655947,  0.25552383, -0.60513248, -0.0740426 ,  0.10793109,\n",
       "        -0.55497424, -0.19506018, -0.20836907, -0.16601938],\n",
       "       [-0.26443017, -0.28619692, -0.02697676, -0.11741757, -0.62499482,\n",
       "         0.11729726, -0.55266225,  0.28259397, -0.20971716],\n",
       "       [-0.28993495, -0.39986778, -0.00863379, -0.13475064, -0.3889193 ,\n",
       "        -0.01285304,  0.45698463, -0.60167877,  0.12464145],\n",
       "       [-0.35237971, -0.64952124,  0.10916483, -0.01636442,  0.528746  ,\n",
       "        -0.2006151 , -0.10804789,  0.23302116,  0.23658822],\n",
       "       [-0.08668845, -0.17141495, -0.0068928 , -0.04332643,  0.19008294,\n",
       "         0.12424727,  0.34717437,  0.12136665, -0.87997075]])"
      ]
     },
     "execution_count": 27,
     "metadata": {},
     "output_type": "execute_result"
    }
   ],
   "source": [
    "U"
   ]
  },
  {
   "cell_type": "code",
   "execution_count": 28,
   "metadata": {},
   "outputs": [
    {
     "data": {
      "text/plain": [
       "array([[-2.02639097e-02, -1.68199331e-01, -2.02639097e-02,\n",
       "        -5.74100773e-02, -1.47130731e-01, -9.16946479e-02,\n",
       "        -1.40923416e-01, -7.95832322e-02, -2.02639097e-02,\n",
       "        -5.74100773e-02, -1.58272881e-01, -1.11958558e-01,\n",
       "        -6.29473858e-02, -6.94926776e-02, -6.29473858e-02,\n",
       "        -7.65046834e-02, -2.02639097e-02, -2.02639097e-02,\n",
       "        -4.92287679e-02, -7.95832322e-02, -9.53254955e-02,\n",
       "        -6.21873670e-01, -1.26866822e-01, -7.65046834e-02,\n",
       "        -6.29473858e-02, -7.95832322e-02, -7.65046834e-02,\n",
       "        -5.74100773e-02, -7.95832322e-02, -2.06450054e-01,\n",
       "        -1.45687634e-01, -3.59484885e-01, -9.16946479e-02,\n",
       "        -1.69586231e-01, -2.06450054e-01, -7.95832322e-02,\n",
       "        -1.96862146e-01, -5.74100773e-02, -2.55678822e-01,\n",
       "        -7.65046834e-02, -7.65046834e-02],\n",
       "       [ 6.90459449e-02, -1.21277296e-01,  6.90459449e-02,\n",
       "        -8.54336446e-02,  1.55474176e-01,  7.26135645e-02,\n",
       "         1.36040973e-01,  7.62773131e-02,  6.90459449e-02,\n",
       "        -8.54336446e-02, -3.64426468e-01,  1.41659509e-01,\n",
       "        -1.19365932e-01,  1.32473353e-01, -1.19365932e-01,\n",
       "        -1.93890861e-01,  6.90459449e-02,  6.90459449e-02,\n",
       "         6.34274082e-02,  7.62773131e-02, -2.45060536e-01,\n",
       "        -7.69430975e-02,  8.64282311e-02, -1.93890861e-01,\n",
       "        -1.19365932e-01,  7.62773131e-02, -1.93890861e-01,\n",
       "        -8.54336446e-02,  7.62773131e-02,  1.62705544e-01,\n",
       "         3.52585554e-02,  2.95082768e-01,  7.26135645e-02,\n",
       "        -1.41372168e-01,  1.62705544e-01,  7.62773131e-02,\n",
       "        -3.98690437e-01, -8.54336446e-02,  2.26132952e-01,\n",
       "        -1.93890861e-01, -1.93890861e-01],\n",
       "       [ 1.22706066e-01,  2.23111065e-01,  1.22706066e-01,\n",
       "        -8.71782363e-03,  4.02937523e-02,  1.87833306e-01,\n",
       "         2.75741181e-01, -1.95554911e-01,  1.22706066e-01,\n",
       "        -8.71782363e-03,  3.02601776e-02,  3.10539372e-01,\n",
       "        -2.79010141e-03,  2.10613941e-01, -2.79010141e-03,\n",
       "         3.52777594e-02,  1.22706066e-01,  1.22706066e-01,\n",
       "         8.79078753e-02, -1.95554911e-01,  3.30502790e-02,\n",
       "        -1.48776398e-01, -8.24123137e-02,  3.52777594e-02,\n",
       "        -2.79010141e-03, -1.95554911e-01,  3.52777594e-02,\n",
       "        -8.71782363e-03, -1.95554911e-01, -2.77967224e-01,\n",
       "        -8.46397940e-02,  3.81162173e-01,  1.87833306e-01,\n",
       "         7.63999502e-02, -2.77967224e-01, -1.95554911e-01,\n",
       "         2.37698343e-02, -8.71782363e-03, -1.90059349e-01,\n",
       "         3.52777594e-02,  3.52777594e-02],\n",
       "       [-3.18902290e-01,  1.57420825e-01, -3.18902290e-01,\n",
       "        -4.30365094e-02, -3.28084684e-01,  1.63418800e-01,\n",
       "         1.86570097e-01, -2.71384856e-02, -3.18902290e-01,\n",
       "        -4.30365094e-02, -7.12677238e-02, -1.55483490e-01,\n",
       "        -4.93895177e-02, -2.95750993e-01, -4.93895177e-02,\n",
       "        -5.99797494e-03, -3.18902290e-01, -3.18902290e-01,\n",
       "         2.31512972e-02, -2.71384856e-02, -2.18782061e-02,\n",
       "         1.94915238e-02, -9.18239424e-03, -5.99797494e-03,\n",
       "        -4.93895177e-02, -2.71384856e-02, -5.99797494e-03,\n",
       "        -4.30365094e-02, -2.71384856e-02, -3.63208798e-02,\n",
       "        -2.50626254e-02,  3.40806503e-01,  1.63418800e-01,\n",
       "        -6.92747298e-02, -3.63208798e-02, -2.71384856e-02,\n",
       "        -9.84240019e-02, -4.30365094e-02, -1.31695826e-02,\n",
       "        -5.99797494e-03, -5.99797494e-03],\n",
       "       [ 5.01100726e-02,  2.30398574e-01,  5.01100726e-02,\n",
       "        -2.35471672e-01,  8.78973088e-02,  3.11893960e-02,\n",
       "        -8.56468208e-02,  4.06638807e-02,  5.01100726e-02,\n",
       "        -2.35471672e-01,  1.24296029e-01,  8.12994686e-02,\n",
       "        -1.46528377e-01, -6.67261443e-02, -1.46528377e-01,\n",
       "         1.99209178e-01,  5.01100726e-02,  5.01100726e-02,\n",
       "        -1.16836217e-01,  4.06638807e-02,  2.70824407e-01,\n",
       "        -3.53631214e-02,  3.77872362e-02,  1.99209178e-01,\n",
       "        -1.46528377e-01,  4.06638807e-02,  1.99209178e-01,\n",
       "        -2.35471672e-01,  4.06638807e-02,  7.84511169e-02,\n",
       "         1.09402464e-01, -1.66701886e-02,  3.11893960e-02,\n",
       "        -4.98836266e-01,  7.84511169e-02,  4.06638807e-02,\n",
       "        -1.82790871e-01, -2.35471672e-01, -3.83850999e-02,\n",
       "         1.99209178e-01,  1.99209178e-01],\n",
       "       [-1.37431986e-02, -9.97534751e-02, -1.37431986e-02,\n",
       "         5.47689683e-02,  2.71657249e-01, -6.08136388e-03,\n",
       "        -2.38491701e-01, -2.59131083e-01, -1.37431986e-02,\n",
       "         5.47689683e-02, -4.16594130e-02, -1.98245624e-02,\n",
       "        -6.00140053e-03, -2.46153536e-01, -6.00140053e-03,\n",
       "        -9.36721113e-02, -1.37431986e-02, -1.37431986e-02,\n",
       "        -2.32410337e-01, -2.59131083e-01, -3.56580125e-02,\n",
       "         2.60683905e-01,  2.85400448e-01, -9.36721113e-02,\n",
       "        -6.00140053e-03, -2.59131083e-01, -9.36721113e-02,\n",
       "         5.47689683e-02, -2.59131083e-01,  2.62693647e-02,\n",
       "         3.43414546e-01,  4.08273828e-02, -6.08136388e-03,\n",
       "        -1.83642769e-01,  2.62693647e-02, -2.59131083e-01,\n",
       "        -4.49045435e-02,  5.47689683e-02, -2.06140972e-01,\n",
       "        -9.36721113e-02, -9.36721113e-02],\n",
       "       [-4.89010938e-02, -1.78622482e-01, -4.89010938e-02,\n",
       "        -2.68496535e-01,  4.26819996e-02, -1.26130233e-01,\n",
       "         9.24394643e-02, -9.47648968e-02, -4.89010938e-02,\n",
       "        -2.68496535e-01,  3.38187415e-01, -1.75031327e-01,\n",
       "         2.22014059e-01,  1.69668603e-01,  2.22014059e-01,\n",
       "        -5.24922494e-02, -4.89010938e-02, -4.89010938e-02,\n",
       "         2.18569697e-01, -9.47648968e-02,  1.16173357e-01,\n",
       "        -1.36703668e-01,  9.15830934e-02, -5.24922494e-02,\n",
       "         2.22014059e-01, -9.47648968e-02, -5.24922494e-02,\n",
       "        -2.68496535e-01, -9.47648968e-02, -3.18180341e-03,\n",
       "         2.60248700e-01,  5.78923249e-02, -1.26130233e-01,\n",
       "         1.72087221e-01, -3.18180341e-03, -9.47648968e-02,\n",
       "        -9.89747254e-02, -2.68496535e-01,  2.15387894e-01,\n",
       "        -5.24922494e-02, -5.24922494e-02],\n",
       "       [-4.52706104e-02, -6.23863705e-02, -4.52706104e-02,\n",
       "         1.48955978e-01,  6.45581975e-02, -1.85212398e-01,\n",
       "         8.93966250e-02, -1.09831853e-01, -4.52706104e-02,\n",
       "         1.48955978e-01, -1.30347676e-01, -2.30483008e-01,\n",
       "        -3.17146366e-01,  2.29338412e-01, -3.17146366e-01,\n",
       "         1.22826027e-01, -4.52706104e-02, -4.52706104e-02,\n",
       "         2.74609023e-01, -1.09831853e-01,  1.86798690e-01,\n",
       "        -1.20750995e-01,  1.09828808e-01,  1.22826027e-01,\n",
       "        -3.17146366e-01, -1.09831853e-01,  1.22826027e-01,\n",
       "         1.48955978e-01, -1.09831853e-01, -3.04456781e-06,\n",
       "         1.73801471e-01,  1.40130352e-02, -1.85212398e-01,\n",
       "         1.06418635e-01, -3.04456781e-06, -1.09831853e-01,\n",
       "        -4.53643607e-02,  1.48955978e-01,  2.74605978e-01,\n",
       "         1.22826027e-01,  1.22826027e-01],\n",
       "       [-1.59498157e-02,  4.82091096e-02, -1.59498157e-02,\n",
       "        -1.45560739e-01,  1.33608436e-01, -1.16002323e-01,\n",
       "        -5.50678915e-02, -1.15230931e-01, -1.59498157e-02,\n",
       "        -1.45560739e-01, -3.60048433e-01, -1.31952139e-01,\n",
       "         8.65112876e-02,  4.49846158e-02,  8.65112876e-02,\n",
       "         1.64211433e-01, -1.59498157e-02, -1.59498157e-02,\n",
       "         6.09344315e-02, -1.15230931e-01, -4.46559721e-01,\n",
       "         1.73045232e-01,  1.49558252e-01,  1.64211433e-01,\n",
       "         8.65112876e-02, -1.15230931e-01,  1.64211433e-01,\n",
       "        -1.45560739e-01, -1.15230931e-01,  3.43273214e-02,\n",
       "        -4.61212901e-01, -2.15119624e-02, -1.16002323e-01,\n",
       "         1.88498020e-03,  3.43273214e-02, -1.15230931e-01,\n",
       "         1.05161981e-01, -1.45560739e-01,  9.52617529e-02,\n",
       "         1.64211433e-01,  1.64211433e-01]])"
      ]
     },
     "execution_count": 28,
     "metadata": {},
     "output_type": "execute_result"
    }
   ],
   "source": [
    "V"
   ]
  },
  {
   "cell_type": "code",
   "execution_count": 29,
   "metadata": {},
   "outputs": [
    {
     "data": {
      "text/plain": [
       "array([[-0.09,  0.23,  0.38, -0.87,  0.13, -0.03, -0.10, -0.09, -0.02],\n",
       "       [-0.58,  0.29, -0.26, -0.03,  0.10,  0.61,  0.19,  0.21,  0.22],\n",
       "       [-0.23,  0.21,  0.27,  0.06, -0.31, -0.50,  0.45,  0.52,  0.09],\n",
       "       [-0.42,  0.24,  0.58,  0.45,  0.08, -0.01, -0.26, -0.35, -0.17],\n",
       "       [-0.37,  0.26, -0.61, -0.07,  0.11, -0.55, -0.20, -0.21, -0.17],\n",
       "       [-0.26, -0.29, -0.03, -0.12, -0.62,  0.12, -0.55,  0.28, -0.21],\n",
       "       [-0.29, -0.40, -0.01, -0.13, -0.39, -0.01,  0.46, -0.60,  0.12],\n",
       "       [-0.35, -0.65,  0.11, -0.02,  0.53, -0.20, -0.11,  0.23,  0.24],\n",
       "       [-0.09, -0.17, -0.01, -0.04,  0.19,  0.12,  0.35,  0.12, -0.88]])"
      ]
     },
     "execution_count": 29,
     "metadata": {},
     "output_type": "execute_result"
    }
   ],
   "source": [
    "np.set_printoptions(formatter={\"float\": lambda x: (\"%5.2f\" %x)})\n",
    "U"
   ]
  },
  {
   "cell_type": "code",
   "execution_count": 30,
   "metadata": {},
   "outputs": [
    {
     "name": "stdout",
     "output_type": "stream",
     "text": [
      "[[ 1.00  0.00  1.00  0.00  1.00 -0.00 -0.00  0.00  1.00  0.00  0.00  1.00\n",
      "   0.00  1.00  0.00  0.00  1.00  1.00 -0.00  0.00  0.00  0.00  0.00  0.00\n",
      "   0.00  0.00  0.00  0.00  0.00  0.00  0.00 -0.00 -0.00 -0.00  0.00  0.00\n",
      "   0.00  0.00  0.00  0.00  0.00]\n",
      " [-0.00  0.00 -0.00  0.00  1.00 -0.00 -0.00 -0.00 -0.00  0.00 -0.00 -0.00\n",
      "  -0.00 -0.00 -0.00  0.00 -0.00 -0.00 -0.00 -0.00 -0.00  2.00  1.00  0.00\n",
      "  -0.00 -0.00  0.00  0.00 -0.00  1.00  1.00  1.00 -0.00 -0.00  1.00 -0.00\n",
      "   0.00  0.00  1.00  0.00  0.00]\n",
      " [-0.00 -0.00 -0.00  0.00 -0.00 -0.00  1.00 -0.00 -0.00  0.00  0.00 -0.00\n",
      "   0.00  1.00  0.00 -0.00 -0.00 -0.00  1.00 -0.00 -0.00 -0.00 -0.00 -0.00\n",
      "   0.00 -0.00 -0.00  0.00 -0.00 -0.00 -0.00  1.00 -0.00  1.00 -0.00 -0.00\n",
      "   0.00  0.00  1.00 -0.00 -0.00]\n",
      " [-0.00  1.00 -0.00 -0.00 -0.00  1.00  1.00 -0.00 -0.00 -0.00  0.00  1.00\n",
      "   0.00 -0.00  0.00  0.00 -0.00 -0.00 -0.00 -0.00  0.00  1.00 -0.00  0.00\n",
      "   0.00 -0.00  0.00 -0.00 -0.00 -0.00  0.00  2.00  1.00  0.00 -0.00 -0.00\n",
      "   0.00 -0.00 -0.00  0.00  0.00]\n",
      " [ 0.00 -0.00  0.00 -0.00 -0.00 -0.00  0.00  1.00  0.00 -0.00  0.00 -0.00\n",
      "  -0.00  0.00 -0.00 -0.00  0.00  0.00  0.00  1.00  0.00  1.00 -0.00 -0.00\n",
      "  -0.00  1.00 -0.00 -0.00  1.00  1.00  0.00 -0.00 -0.00  0.00  1.00  1.00\n",
      "  -0.00 -0.00  1.00 -0.00 -0.00]\n",
      " [-0.00 -0.00 -0.00  1.00  0.00  0.00  0.00 -0.00 -0.00  1.00 -0.00  0.00\n",
      "  -0.00 -0.00 -0.00 -0.00 -0.00 -0.00  0.00 -0.00 -0.00  1.00  0.00 -0.00\n",
      "  -0.00 -0.00 -0.00  1.00 -0.00  0.00  0.00  0.00  0.00  1.00  0.00 -0.00\n",
      "   1.00  1.00  0.00 -0.00 -0.00]\n",
      " [-0.00 -0.00 -0.00 -0.00 -0.00  0.00  0.00  0.00 -0.00 -0.00  1.00  0.00\n",
      "   1.00  0.00  1.00 -0.00 -0.00 -0.00  0.00  0.00 -0.00  1.00 -0.00 -0.00\n",
      "   1.00  0.00 -0.00 -0.00  0.00  0.00 -0.00  0.00  0.00  1.00  0.00  0.00\n",
      "   1.00 -0.00  0.00 -0.00 -0.00]\n",
      " [-0.00  1.00 -0.00 -0.00  0.00  0.00  0.00  0.00 -0.00 -0.00  1.00  0.00\n",
      "  -0.00  0.00 -0.00  1.00 -0.00 -0.00  0.00  0.00  1.00  1.00  0.00  1.00\n",
      "  -0.00  0.00  1.00 -0.00  0.00  0.00  0.00  0.00  0.00 -0.00  0.00  0.00\n",
      "   1.00 -0.00  0.00  1.00  1.00]\n",
      " [-0.00  0.00  0.00  0.00 -0.00  0.00  0.00  0.00  0.00  0.00  1.00  0.00\n",
      "  -0.00 -0.00 -0.00 -0.00 -0.00 -0.00 -0.00  0.00  1.00 -0.00 -0.00 -0.00\n",
      "  -0.00  0.00 -0.00  0.00  0.00 -0.00  1.00  0.00  0.00 -0.00 -0.00  0.00\n",
      "  -0.00  0.00 -0.00 -0.00 -0.00]]\n"
     ]
    }
   ],
   "source": [
    "print(U.dot(S).dot(V))"
   ]
  },
  {
   "cell_type": "code",
   "execution_count": 31,
   "metadata": {},
   "outputs": [
    {
     "data": {
      "text/plain": [
       "array([[ 1.00,  0.00,  0.00,  0.00, -0.00,  0.00,  0.00,  0.00,  0.00],\n",
       "       [ 0.00,  1.00, -0.00, -0.00,  0.00, -0.00, -0.00, -0.00, -0.00],\n",
       "       [ 0.00, -0.00,  1.00,  0.00, -0.00, -0.00,  0.00,  0.00, -0.00],\n",
       "       [ 0.00, -0.00,  0.00,  1.00, -0.00, -0.00,  0.00, -0.00, -0.00],\n",
       "       [-0.00,  0.00, -0.00, -0.00,  1.00, -0.00,  0.00, -0.00,  0.00],\n",
       "       [ 0.00, -0.00, -0.00, -0.00, -0.00,  1.00, -0.00,  0.00, -0.00],\n",
       "       [ 0.00, -0.00,  0.00,  0.00,  0.00, -0.00,  1.00,  0.00,  0.00],\n",
       "       [ 0.00, -0.00,  0.00, -0.00, -0.00,  0.00,  0.00,  1.00,  0.00],\n",
       "       [ 0.00, -0.00, -0.00, -0.00,  0.00, -0.00,  0.00,  0.00,  1.00]])"
      ]
     },
     "execution_count": 31,
     "metadata": {},
     "output_type": "execute_result"
    }
   ],
   "source": [
    "U.transpose().dot(U)"
   ]
  },
  {
   "cell_type": "code",
   "execution_count": 32,
   "metadata": {},
   "outputs": [
    {
     "data": {
      "text/plain": [
       "array([[ 1.00, -0.00, -0.00, -0.00, -0.00, -0.00,  0.00, -0.00,  0.00],\n",
       "       [-0.00,  1.00, -0.00,  0.00, -0.00,  0.00,  0.00,  0.00,  0.00],\n",
       "       [-0.00, -0.00,  1.00,  0.00,  0.00,  0.00,  0.00, -0.00, -0.00],\n",
       "       [-0.00,  0.00,  0.00,  1.00,  0.00, -0.00,  0.00, -0.00, -0.00],\n",
       "       [-0.00, -0.00,  0.00,  0.00,  1.00,  0.00,  0.00,  0.00, -0.00],\n",
       "       [-0.00,  0.00,  0.00, -0.00,  0.00,  1.00, -0.00,  0.00,  0.00],\n",
       "       [ 0.00,  0.00,  0.00,  0.00,  0.00, -0.00,  1.00, -0.00,  0.00],\n",
       "       [-0.00,  0.00, -0.00, -0.00,  0.00,  0.00, -0.00,  1.00, -0.00],\n",
       "       [ 0.00,  0.00, -0.00, -0.00, -0.00,  0.00,  0.00, -0.00,  1.00]])"
      ]
     },
     "execution_count": 32,
     "metadata": {},
     "output_type": "execute_result"
    }
   ],
   "source": [
    "V.dot(V.transpose())"
   ]
  },
  {
   "cell_type": "markdown",
   "metadata": {},
   "source": [
    "# THank you"
   ]
  }
 ],
 "metadata": {
  "kernelspec": {
   "display_name": "Python 3",
   "language": "python",
   "name": "python3"
  },
  "language_info": {
   "codemirror_mode": {
    "name": "ipython",
    "version": 3
   },
   "file_extension": ".py",
   "mimetype": "text/x-python",
   "name": "python",
   "nbconvert_exporter": "python",
   "pygments_lexer": "ipython3",
   "version": "3.8.1"
  }
 },
 "nbformat": 4,
 "nbformat_minor": 4
}
