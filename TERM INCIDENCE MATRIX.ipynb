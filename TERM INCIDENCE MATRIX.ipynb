{
 "cells": [
  {
   "cell_type": "code",
   "execution_count": 3,
   "metadata": {
    "id": "flBOAR-1ecLy"
   },
   "outputs": [],
   "source": [
    "import sklearn\n",
    "import sklearn.feature_extraction\n",
    "import numpy as np\n",
    "from scipy.linalg import svd\n",
    "from numpy import zeros\n",
    "from numpy import diag\n",
    "from numpy import dot"
   ]
  },
  {
   "cell_type": "code",
   "execution_count": 5,
   "metadata": {
    "colab": {
     "base_uri": "https://localhost:8080/",
     "height": 295
    },
    "id": "RDLtKAzSXdk9",
    "outputId": "0e0dd495-2f94-4c77-f034-da8a2222c6e5"
   },
   "outputs": [
    {
     "name": "stdout",
     "output_type": "stream",
     "text": [
      "How many documents you want to enter\n",
      "2\n",
      "suyash is a boy\n",
      "surbhi is a girl\n"
     ]
    }
   ],
   "source": [
    "vectorizer = sklearn.feature_extraction.text.CountVectorizer(min_df=1)\n",
    "corpus=[]\n",
    "x=int(input(\"How many documents you want to enter\\n\"))\n",
    "for i in range(x):\n",
    "  s=input()\n",
    "  corpus.append(s)"
   ]
  },
  {
   "cell_type": "markdown",
   "metadata": {
    "id": "cNTOmqF5ZWOj"
   },
   "source": [
    "# **Making Term Incidence Matrix**"
   ]
  },
  {
   "cell_type": "code",
   "execution_count": 6,
   "metadata": {
    "colab": {
     "base_uri": "https://localhost:8080/"
    },
    "id": "MQOJr203Xsm-",
    "outputId": "b15c01b2-b497-447f-a6e2-0ef300eae750"
   },
   "outputs": [
    {
     "name": "stdout",
     "output_type": "stream",
     "text": [
      "[[1 0 1 0 1]\n",
      " [0 1 1 1 0]]\n",
      "vectorizer.vocabulary_: {'suyash': 4, 'is': 2, 'boy': 0, 'surbhi': 3, 'girl': 1}\n"
     ]
    }
   ],
   "source": [
    "Z = vectorizer.fit_transform(corpus).toarray()\n",
    "print('{0}'.format(Z))\n",
    "print('vectorizer.vocabulary_: {0}'.format(vectorizer.vocabulary_))"
   ]
  },
  {
   "cell_type": "markdown",
   "metadata": {},
   "source": [
    "# THANK YOU"
   ]
  }
 ],
 "metadata": {
  "colab": {
   "collapsed_sections": [],
   "name": "IR Assignment_181b.ipynb",
   "provenance": []
  },
  "kernelspec": {
   "display_name": "Python 3",
   "language": "python",
   "name": "python3"
  },
  "language_info": {
   "codemirror_mode": {
    "name": "ipython",
    "version": 3
   },
   "file_extension": ".py",
   "mimetype": "text/x-python",
   "name": "python",
   "nbconvert_exporter": "python",
   "pygments_lexer": "ipython3",
   "version": "3.8.1"
  }
 },
 "nbformat": 4,
 "nbformat_minor": 1
}
