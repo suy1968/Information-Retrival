{
 "cells": [
  {
   "cell_type": "code",
   "execution_count": 14,
   "metadata": {
    "id": "VzXP1a6XO4ke"
   },
   "outputs": [],
   "source": [
    "import re\n",
    "\n",
    "def tokenize(message):\n",
    "  message= message.lower()\n",
    "  all_words= re.findall(\"[a-z0-9]+\", message)\n",
    "  return set(all_words)"
   ]
  },
  {
   "cell_type": "code",
   "execution_count": 15,
   "metadata": {
    "colab": {
     "base_uri": "https://localhost:8080/"
    },
    "id": "2IQbEGxNPVid",
    "outputId": "3c3ccedb-0575-4f02-b3ae-662d3ce6a8b5"
   },
   "outputs": [
    {
     "data": {
      "text/plain": [
       "{'hello', 'is', 'message', 'test', 'this', 'world'}"
      ]
     },
     "execution_count": 15,
     "metadata": {
      "tags": []
     },
     "output_type": "execute_result"
    }
   ],
   "source": [
    "tokenize(\"Hello world! This  is test Message\")"
   ]
  },
  {
   "cell_type": "code",
   "execution_count": 16,
   "metadata": {
    "id": "LTKHkO7ZPdSG"
   },
   "outputs": [],
   "source": [
    "from collections import Counter\n",
    "\n",
    "def word_count_seq(documents):\n",
    "  return Counter( word\n",
    "                 for document in documents\n",
    "                    for word in tokenize(document))"
   ]
  },
  {
   "cell_type": "code",
   "execution_count": 17,
   "metadata": {
    "colab": {
     "base_uri": "https://localhost:8080/"
    },
    "id": "l2qA1PinP1xA",
    "outputId": "2d005f79-2cae-4e92-ef99-fba0aa3c3a0e"
   },
   "outputs": [
    {
     "data": {
      "text/plain": [
       "Counter({'big': 1, 'data': 2, 'fiction': 1, 'science': 2})"
      ]
     },
     "execution_count": 17,
     "metadata": {
      "tags": []
     },
     "output_type": "execute_result"
    }
   ],
   "source": [
    "docs= [\"data science\", \"big data\", \"Science fiction\"]\n",
    "\n",
    "word_count_seq(docs)"
   ]
  },
  {
   "cell_type": "code",
   "execution_count": 18,
   "metadata": {
    "id": "cPV-4TWMQKz9"
   },
   "outputs": [],
   "source": [
    "def wc_mapper(document):\n",
    "  for word in tokenize(document):\n",
    "    yield(word,1)"
   ]
  },
  {
   "cell_type": "code",
   "execution_count": 19,
   "metadata": {
    "colab": {
     "base_uri": "https://localhost:8080/"
    },
    "id": "LT7YyRzKQbfX",
    "outputId": "7b890a01-246f-4e71-ed95-9ab1fc2687ce"
   },
   "outputs": [
    {
     "name": "stdout",
     "output_type": "stream",
     "text": [
      "('data', 1)\n",
      "('science', 1)\n",
      "('data', 1)\n",
      "('big', 1)\n",
      "('fiction', 1)\n",
      "('science', 1)\n"
     ]
    }
   ],
   "source": [
    "for doc in docs:\n",
    "  for x in wc_mapper(doc):\n",
    "    print(x)"
   ]
  },
  {
   "cell_type": "code",
   "execution_count": 20,
   "metadata": {
    "id": "J0gH0YhRQpSo"
   },
   "outputs": [],
   "source": [
    "def wc_reducer(word, counts):\n",
    "  yield(word, sum(counts))"
   ]
  },
  {
   "cell_type": "code",
   "execution_count": 21,
   "metadata": {
    "id": "El_-vrPTQ4XA"
   },
   "outputs": [],
   "source": [
    "from collections import defaultdict\n",
    "\n",
    "def word_count(documents):\n",
    "  collector=defaultdict(list)\n",
    "\n",
    "  for document in documents:\n",
    "    for word, count in wc_mapper(document):\n",
    "      collector[word].append(count)\n",
    "  print(collector)"
   ]
  },
  {
   "cell_type": "code",
   "execution_count": null,
   "metadata": {
    "id": "xqB5hImeRaUC"
   },
   "outputs": [],
   "source": [
    "docs"
   ]
  },
  {
   "cell_type": "code",
   "execution_count": 22,
   "metadata": {
    "colab": {
     "base_uri": "https://localhost:8080/"
    },
    "id": "X6oV-EskRc-b",
    "outputId": "0db6f20a-0ecf-48a0-db6c-c23cbe3eaa62"
   },
   "outputs": [
    {
     "name": "stdout",
     "output_type": "stream",
     "text": [
      "defaultdict(<class 'list'>, {'data': [1, 1], 'science': [1, 1], 'big': [1], 'fiction': [1]})\n"
     ]
    }
   ],
   "source": [
    "word_count(docs)\n"
   ]
  }
 ],
 "metadata": {
  "colab": {
   "collapsed_sections": [],
   "name": "mapreduce.ipynb",
   "provenance": []
  },
  "kernelspec": {
   "display_name": "Python 3",
   "language": "python",
   "name": "python3"
  },
  "language_info": {
   "codemirror_mode": {
    "name": "ipython",
    "version": 3
   },
   "file_extension": ".py",
   "mimetype": "text/x-python",
   "name": "python",
   "nbconvert_exporter": "python",
   "pygments_lexer": "ipython3",
   "version": "3.8.1"
  }
 },
 "nbformat": 4,
 "nbformat_minor": 1
}
